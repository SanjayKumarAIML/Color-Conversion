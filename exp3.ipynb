{
 "cells": [
  {
   "cell_type": "code",
   "execution_count": 1,
   "id": "3bea9cf7-f951-4655-9de2-0c4eb11a3135",
   "metadata": {},
   "outputs": [],
   "source": [
    "import cv2"
   ]
  },
  {
   "cell_type": "code",
   "execution_count": 2,
   "id": "b6a54850-5faa-4417-b154-bd1891bede08",
   "metadata": {},
   "outputs": [],
   "source": [
    "img = cv2.imread('levi.jpg')\n",
    "cv2.imshow('original',img)\n",
    "\n",
    "bgr2hsv = cv2.cvtColor(img,cv2.COLOR_BGR2HSV)\n",
    "cv2.imshow('BGR To HSV',bgr2hsv)\n",
    "\n",
    "bgr2gray = cv2.cvtColor(img,cv2.COLOR_BGR2GRAY)\n",
    "cv2.imshow('BGR To GRAY',bgr2gray)\n",
    "rgb = cv2.cvtColor(img,cv2.COLOR_BGR2RGB)\n",
    "rgb2hsv = cv2.cvtColor(rgb,cv2.COLOR_RGB2HSV)\n",
    "cv2.imshow('RGB2HSV',rgb2hsv)\n",
    "\n",
    "rgb2gray = cv2.cvtColor(rgb,cv2.COLOR_RGB2GRAY)\n",
    "cv2.imshow('RGB2GRAY',rgb2gray)\n",
    "\n",
    "cv2.waitKey(0)\n",
    "cv2.destroyAllWindows()\n"
   ]
  },
  {
   "cell_type": "code",
   "execution_count": 3,
   "id": "c3dad45d-c8d1-43f9-8b72-547e5e371b4c",
   "metadata": {},
   "outputs": [],
   "source": [
    "cv2.imshow('HSV',bgr2hsv)\n",
    "\n",
    "hsv2rgb = cv2.cvtColor(bgr2hsv,cv2.COLOR_HSV2RGB)\n",
    "cv2.imshow('HSVtoRGB',hsv2rgb)\n",
    "\n",
    "hsv2bgr = cv2.cvtColor(bgr2hsv,cv2.COLOR_HSV2BGR)\n",
    "cv2.imshow('HSVtoBGR',hsv2bgr)\n",
    "\n",
    "cv2.waitKey(0)\n",
    "cv2.destroyAllWindows()"
   ]
  },
  {
   "cell_type": "code",
   "execution_count": 4,
   "id": "0dd75842-007c-44d5-b8a0-2b5ea907b771",
   "metadata": {},
   "outputs": [],
   "source": [
    "\n",
    "\n",
    "hsv = cv2.cvtColor(img,cv2.COLOR_BGR2HSV)\n",
    "cv2.imshow('HSV',hsv)\n",
    "cv2.imwrite('2_HSV_Image.png',hsv)\n",
    "\n",
    "hsv2bgr = cv2.cvtColor(hsv,cv2.COLOR_HSV2BGR)\n",
    "cv2.imshow('HSVtoBGR',hsv2bgr)\n",
    "cv2.imwrite('2_HSVtoBGR.png',hsv2bgr)\n",
    "\n",
    "hsv2rgb = cv2.cvtColor(hsv,cv2.COLOR_HSV2RGB)\n",
    "cv2.imshow('HSVtoRGB',hsv2rgb)\n",
    "cv2.imwrite('2_HSVtoRGB.png',hsv2rgb)\n",
    "\n",
    "cv2.waitKey(0)\n",
    "cv2.destroyAllWindows()"
   ]
  },
  {
   "cell_type": "code",
   "execution_count": 5,
   "id": "ec31811b-f942-44d7-8b1e-62a3d305e4a6",
   "metadata": {},
   "outputs": [],
   "source": [
    "b,g,r = cv2.split(img)\n",
    "cv2.imshow(\"RED MODEL\", r)\n",
    "cv2.imshow(\"GREEN MODEL\", g)\n",
    "cv2.imshow(\"BLUE MODEL \", b)\n",
    "\n",
    "merger = cv2.merge([b,g,r])\n",
    "cv2.imshow(\"MERGED IMAGE\", merger)\n",
    "\n",
    "cv2.waitKey(0)\n",
    "cv2.destroyAllWindows()"
   ]
  },
  {
   "cell_type": "code",
   "execution_count": 6,
   "id": "0075ac97-6280-41e4-aed5-e7e190e55f80",
   "metadata": {},
   "outputs": [],
   "source": [
    "cv2.imshow(\"INITIAL_HSV \", bgr2hsv)\n",
    "\n",
    "h,s,v = cv2.split(bgr2hsv)\n",
    "cv2.imshow(\"RED MODEL\", h)\n",
    "cv2.imshow(\"GREEN MODEL\", s)\n",
    "cv2.imshow(\"BLUE MODEL \", v)\n",
    "\n",
    "merger = cv2.merge([h,s,v])\n",
    "cv2.imshow(\"MERGED IMAGE\", merger)\n",
    "\n",
    "cv2.waitKey(0)\n",
    "cv2.destroyAllWindows()"
   ]
  },
  {
   "cell_type": "code",
   "execution_count": null,
   "id": "5765b2c7-acf1-4318-8946-03654a777c87",
   "metadata": {},
   "outputs": [],
   "source": []
  }
 ],
 "metadata": {
  "kernelspec": {
   "display_name": "Python 3 (ipykernel)",
   "language": "python",
   "name": "python3"
  },
  "language_info": {
   "codemirror_mode": {
    "name": "ipython",
    "version": 3
   },
   "file_extension": ".py",
   "mimetype": "text/x-python",
   "name": "python",
   "nbconvert_exporter": "python",
   "pygments_lexer": "ipython3",
   "version": "3.9.13"
  }
 },
 "nbformat": 4,
 "nbformat_minor": 5
}
